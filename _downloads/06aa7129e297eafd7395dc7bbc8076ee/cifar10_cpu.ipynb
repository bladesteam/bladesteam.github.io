{
  "cells": [
    {
      "cell_type": "code",
      "execution_count": null,
      "metadata": {
        "collapsed": false
      },
      "outputs": [],
      "source": [
        "%matplotlib inline"
      ]
    },
    {
      "cell_type": "markdown",
      "metadata": {},
      "source": [
        "\n# \"This\" is my example-script\n\nThis example doesn't do much, it just makes a simple plot\n"
      ]
    },
    {
      "cell_type": "code",
      "execution_count": null,
      "metadata": {
        "collapsed": false
      },
      "outputs": [],
      "source": [
        "import ray\nimport torch.optim\n\nfrom blades.datasets import CIFAR10\nfrom blades.models.cifar10 import CCTNet\nfrom blades.simulator import Simulator\n\ncifar10 = CIFAR10(num_clients=20, iid=True)  # built-in federated cifar10 dataset\n\n# configuration parameters\nconf_params = {\n    \"dataset\": cifar10,\n    \"aggregator\": \"mean\",  # defense: robust aggregation\n    \"num_byzantine\": 5,  # number of byzantine input\n    \"attack\": \"alie\",  # attack strategy\n    \"attack_para\": {\"n\": 20,  # attacker parameters\n                    \"m\": 5},\n    \"num_actors\": 4,  # number of training actors\n    \"seed\": 1,  # reproducibility\n}\n\nray.init(num_gpus=0)\n# ray.init(num_gpus=0, local_mode=True)\nsimulator = Simulator(**conf_params)\n\nmodel = CCTNet()\nserver_opt = torch.optim.Adam(model.parameters(), lr=0.01)\n# runtime parameters\nrun_params = {\n    \"model\": model,  # global model\n    \"server_optimizer\": 'SGD',  # ,server_opt  # server optimizer\n    \"client_optimizer\": 'SGD',  # client optimizer\n    \"loss\": \"crossentropy\",  # loss function\n    \"global_rounds\": 400,  # number of global rounds\n    \"local_steps\": 2,  # number of steps per round\n    \"server_lr\": 1,\n    \"client_lr\": 0.1,  # learning rate\n}\nsimulator.run(**run_params)"
      ]
    }
  ],
  "metadata": {
    "kernelspec": {
      "display_name": "Python 3",
      "language": "python",
      "name": "python3"
    },
    "language_info": {
      "codemirror_mode": {
        "name": "ipython",
        "version": 3
      },
      "file_extension": ".py",
      "mimetype": "text/x-python",
      "name": "python",
      "nbconvert_exporter": "python",
      "pygments_lexer": "ipython3",
      "version": "3.9.7"
    }
  },
  "nbformat": 4,
  "nbformat_minor": 0
}