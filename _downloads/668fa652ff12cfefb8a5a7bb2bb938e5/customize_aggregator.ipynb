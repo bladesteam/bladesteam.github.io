{
  "cells": [
    {
      "cell_type": "code",
      "execution_count": null,
      "metadata": {
        "collapsed": false
      },
      "outputs": [],
      "source": [
        "%matplotlib inline"
      ]
    },
    {
      "cell_type": "markdown",
      "metadata": {},
      "source": [
        "\n# \"This\" is my example-script\n\nThis example doesn't do much, it just makes a simple plot\n"
      ]
    },
    {
      "cell_type": "code",
      "execution_count": null,
      "metadata": {
        "collapsed": false
      },
      "outputs": [],
      "source": [
        "import ray\nimport torch\n\nfrom blades.datasets import CIFAR10\nfrom blades.models.cifar10 import CCTNet\nfrom blades.simulator import Simulator\n\ncifar10 = CIFAR10(num_clients=20, iid=True)  # built-in federated cifar10 dataset\n\n\nclass Median():\n    def __call__(self, inputs):\n        stacked = torch.stack(inputs, dim=0)\n        values_upper, _ = stacked.median(dim=0)\n        values_lower, _ = (-stacked).median(dim=0)\n        return (values_upper - values_lower) / 2\n\n\n# configuration parameters\nconf_params = {\n    \"dataset\": cifar10,\n    \"aggregator\": Median(),  # defense: robust aggregation\n    \"num_actors\": 20,  # number of training actors\n    \"gpu_per_actor\": 0.19,\n    \"seed\": 1,  # reproducibility\n}\n\nray.init(num_gpus=4)\nsimulator = Simulator(**conf_params)\n\n# runtime parameters\nrun_params = {\n    \"model\": CCTNet(),  # global model\n    \"server_optimizer\": 'SGD',  # server optimizer\n    \"client_optimizer\": 'SGD',  # client optimizer\n    \"loss\": \"crossentropy\",  # loss function\n    \"global_rounds\": 400,  # number of global rounds\n    \"local_steps\": 20,  # number of steps per round\n    \"client_lr\": 0.1,  # learning rate\n}\nsimulator.run(**run_params)"
      ]
    }
  ],
  "metadata": {
    "kernelspec": {
      "display_name": "Python 3",
      "language": "python",
      "name": "python3"
    },
    "language_info": {
      "codemirror_mode": {
        "name": "ipython",
        "version": 3
      },
      "file_extension": ".py",
      "mimetype": "text/x-python",
      "name": "python",
      "nbconvert_exporter": "python",
      "pygments_lexer": "ipython3",
      "version": "3.9.7"
    }
  },
  "nbformat": 4,
  "nbformat_minor": 0
}