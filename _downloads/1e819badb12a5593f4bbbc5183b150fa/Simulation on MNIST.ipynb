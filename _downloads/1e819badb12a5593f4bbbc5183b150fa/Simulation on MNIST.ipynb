{
  "cells": [
    {
      "cell_type": "code",
      "execution_count": null,
      "metadata": {
        "collapsed": false
      },
      "outputs": [],
      "source": [
        "%matplotlib inline"
      ]
    },
    {
      "cell_type": "markdown",
      "metadata": {},
      "source": [
        "\n# Simulation on Mnist Dataset\n"
      ]
    },
    {
      "cell_type": "code",
      "execution_count": null,
      "metadata": {
        "collapsed": false
      },
      "outputs": [],
      "source": [
        "import json\n\nimport pandas as pd\nimport ray\nimport seaborn as sns\n\nfrom blades.datasets import MNIST\nfrom blades.models.mnist import MLP\nfrom blades.simulator import Simulator\n\n# Initialize Ray\nray.init()\n# ray.init(address='auto')\n\n\n# mnist = MNIST(data_root=\"/dbfs/data\", train_bs=32, num_clients=20)  # built-in federated MNIST dataset\nmnist = MNIST(data_root=\"./data\", train_bs=32, num_clients=20)  # built-in federated MNIST dataset\n\n# configuration parameters\nconf_params = {\n    \"dataset\": mnist,\n#     \"aggregator\": \"trimmedmean\",  # aggregation\n    \"num_byzantine\": 8,  # number of Byzantine input\n    \"attack\": \"ipm\",  # attack strategy\n    # \"log_path\": \"dbfs/outputs\",\n    \"attack_kws\": {   \n                          \"epsilon\": 100,\n                     },\n    \"num_actors\": 1,  # number of training actors\n    \"seed\": 1,  # reproducibility\n}\n\nrun_params = {\n#     \"model\": model,  # global model\n    \"server_optimizer\": 'SGD',  # ,server_opt  # server optimizer\n    \"client_optimizer\": 'SGD',  # client optimizer\n    \"loss\": \"crossentropy\",  # loss function\n    \"global_rounds\": 10,  # number of global rounds\n    \"local_steps\": 10,  # number of steps per round\n    \"server_lr\": 1,\n    \"client_lr\": 0.1,  # learning rate\n}\n\naggs = {\n    'mean': {},\n    'trimmedmean': {\"num_byzantine\": 8},\n    'geomed': {},\n    'median': {},\n    'clippedclustering': {},\n}\n\n\nfor agg in aggs:\n    conf_params['aggregator'] = agg\n    conf_params['log_path'] = f\"./outputs/{agg}\"\n#     conf_params['log_path'] = f\"dbfs/outputs/{k}\"\n    model = MLP()\n    run_params['model'] = model\n    simulator = Simulator(**conf_params)\n    simulator.run(**run_params)\n\n\ndef read_json(path):\n    validation = []\n    with open(path, \"r\") as f:\n        for line in f:\n            line=line.strip().replace(\"'\", '\"')\n            line = line.replace(\"nan\", '\"nan\"')\n            try:\n                data = json.loads(line)\n            except:\n                print(line)\n                raise\n            if data['_meta']['type'] == 'test':\n                validation.append(data)\n    return validation\n\ndef transform(entry, agg):  \n    return {\n        'Round Number': entry['Round'],\n        'Accuracy (%)': entry['top1'],\n        \"Loss\": entry['Loss'],\n        'AGG': agg,\n    }\n\n\n\ndf = []\nfor agg in aggs:\n    path = f\"./outputs/{agg}/stats\"\n    validation_entries = read_json(path)\n    df += list(map(lambda x: transform(x, agg=agg), validation_entries))\ndf = pd.DataFrame(df)\n\n\ng = sns.lineplot(\n    data=df, \n    x=\"Round Number\", y=\"Accuracy (%)\",  \n    hue=\"AGG\",\n    ci=None,\n)"
      ]
    }
  ],
  "metadata": {
    "kernelspec": {
      "display_name": "Python 3",
      "language": "python",
      "name": "python3"
    },
    "language_info": {
      "codemirror_mode": {
        "name": "ipython",
        "version": 3
      },
      "file_extension": ".py",
      "mimetype": "text/x-python",
      "name": "python",
      "nbconvert_exporter": "python",
      "pygments_lexer": "ipython3",
      "version": "3.9.12"
    }
  },
  "nbformat": 4,
  "nbformat_minor": 0
}