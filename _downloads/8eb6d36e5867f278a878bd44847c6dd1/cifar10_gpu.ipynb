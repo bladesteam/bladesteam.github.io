{
  "cells": [
    {
      "cell_type": "code",
      "execution_count": null,
      "metadata": {
        "collapsed": false
      },
      "outputs": [],
      "source": [
        "%matplotlib inline"
      ]
    },
    {
      "cell_type": "markdown",
      "metadata": {},
      "source": [
        "\n# \"This\" is my example-script\n\nThis example doesn't do much, it just makes a simple plot\n"
      ]
    },
    {
      "cell_type": "code",
      "execution_count": null,
      "metadata": {
        "collapsed": false
      },
      "outputs": [],
      "source": [
        "import sys\n\nimport ray\nimport torch\n\nsys.path.insert(0, '../..')\nfrom blades.simulator import Simulator\nfrom blades.datasets import CIFAR10\nfrom blades.models.cifar10 import CCTNet\n\ncifar10 = CIFAR10(num_clients=20, iid=True)  # built-in federated cifar10 dataset\n\n# configuration parameters\nconf_params = {\n    \"dataset\": cifar10,\n    \"aggregator\": \"krum\",  # defense: robust aggregation\n    \"num_byzantine\": 5,  # number of byzantine input\n    \"use_cuda\": True,\n    \"attack\": \"noise\",  # attack strategy\n    # \"attack_para\":{\"n\": 20, # attacker parameters\n    #                \"m\": 5},\n    \"num_actors\": 20,  # number of training actors\n    \"gpu_per_actor\": 0.19,\n    \"seed\": 1,  # reproducibility\n}\n\nray.init(num_gpus=4)\nsimulator = Simulator(**conf_params)\n\nmodel = CCTNet()\nserver_opt = torch.optim.Adam(model.parameters(), lr=0.01)\n# runtime parameters\nrun_params = {\n    \"model\": model,  # global model\n    \"server_optimizer\": server_opt,  # 'SGD',  # server optimizer\n    \"client_optimizer\": 'SGD',  # client optimizer\n    \"loss\": \"crossentropy\",  # loss function\n    \"global_rounds\": 400,  # number of global rounds\n    \"local_steps\": 10,  # number of s\"client_lr\": 0.1,  # learning rateteps per round\n    \n}\nsimulator.run(**run_params)"
      ]
    }
  ],
  "metadata": {
    "kernelspec": {
      "display_name": "Python 3",
      "language": "python",
      "name": "python3"
    },
    "language_info": {
      "codemirror_mode": {
        "name": "ipython",
        "version": 3
      },
      "file_extension": ".py",
      "mimetype": "text/x-python",
      "name": "python",
      "nbconvert_exporter": "python",
      "pygments_lexer": "ipython3",
      "version": "3.9.7"
    }
  },
  "nbformat": 4,
  "nbformat_minor": 0
}