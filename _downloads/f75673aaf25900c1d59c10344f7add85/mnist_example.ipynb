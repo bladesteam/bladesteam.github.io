{
  "cells": [
    {
      "cell_type": "code",
      "execution_count": null,
      "metadata": {
        "collapsed": false
      },
      "outputs": [],
      "source": [
        "%matplotlib inline"
      ]
    },
    {
      "cell_type": "markdown",
      "metadata": {},
      "source": [
        "\n# \"This\" is my example-script\n\nThis example doesn't do much, it just makes a simple plot\n"
      ]
    },
    {
      "cell_type": "code",
      "execution_count": null,
      "metadata": {
        "collapsed": false
      },
      "outputs": [],
      "source": [
        "import ray\n\nfrom blades.datasets import MNIST\nfrom blades.models.mnist import DNN\nfrom blades.simulator import Simulator\n\nmnist = MNIST(data_root=\"./data\", train_bs=32, num_clients=10)  # built-in federated MNIST dataset\n\n# configuration parameters\nconf_params = {\n    \"dataset\": mnist,\n    \"aggregator\": \"mean\",  # aggregation\n    # \"aggregator_params\": {\"num_clients\": 10,  # attacker parameters\n    #               \"num_byzantine\": 3},\n    \"num_byzantine\": 0,  # number of Byzantine input\n    \"attack\": \"labelflipping\",  # attack strategy\n    # \"attack_params\": {\"num_clients\": 10,  # attacker parameters\n    # \"num_byzantine\": 3},\n    \"num_actors\": 4,  # number of training actors\n    \"seed\": 1,  # reproducibility\n}\n\nray.init(num_gpus=0)\nsimulator = Simulator(**conf_params)\n\nmodel = DNN()\n# runtime parameters\nrun_params = {\n    \"model\": model,  # global model\n    \"server_optimizer\": 'SGD',  # ,server_opt  # server optimizer\n    \"client_optimizer\": 'SGD',  # client optimizer\n    \"loss\": \"crossentropy\",  # loss function\n    \"global_rounds\": 400,  # number of global rounds\n    \"local_steps\": 1,  # number of steps per round\n    \"server_lr\": 1,\n    \"client_lr\": 0.1,  # learning rate\n}\nsimulator.run(**run_params)"
      ]
    }
  ],
  "metadata": {
    "kernelspec": {
      "display_name": "Python 3",
      "language": "python",
      "name": "python3"
    },
    "language_info": {
      "codemirror_mode": {
        "name": "ipython",
        "version": 3
      },
      "file_extension": ".py",
      "mimetype": "text/x-python",
      "name": "python",
      "nbconvert_exporter": "python",
      "pygments_lexer": "ipython3",
      "version": "3.9.7"
    }
  },
  "nbformat": 4,
  "nbformat_minor": 0
}