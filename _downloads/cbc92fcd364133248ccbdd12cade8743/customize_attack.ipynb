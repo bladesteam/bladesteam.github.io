{
  "cells": [
    {
      "cell_type": "code",
      "execution_count": null,
      "metadata": {
        "collapsed": false
      },
      "outputs": [],
      "source": [
        "%matplotlib inline"
      ]
    },
    {
      "cell_type": "markdown",
      "metadata": {},
      "source": [
        "\n# Customization of attack strategy\n"
      ]
    },
    {
      "cell_type": "code",
      "execution_count": null,
      "metadata": {
        "collapsed": false
      },
      "outputs": [],
      "source": [
        "import ray\n\nfrom blades.client import ByzantineClient\nfrom blades.datasets import MNIST\nfrom blades.models.mnist import MLP\nfrom blades.simulator import Simulator\n\nmnist = MNIST(data_root=\"./data\", train_bs=32, num_clients=10)  # built-in federated MNIST dataset\n\n\nclass MaliciousClient(ByzantineClient):\n    def __init__(self, *args, **kwargs):\n        super().__init__(*args, **kwargs)\n    \n    def omniscient_callback(self, simulator):\n        updates = []\n        for w in simulator.get_clients():\n            if not w.is_byzantine():\n                updates.append(w.get_update())\n        self.save_update(-100 * (sum(updates)) / len(updates))\n\n\n# configuration parameters\nconf_params = {\n    \"dataset\": mnist,\n    \"aggregator\": \"mean\",  # defense: robust aggregation\n    \"num_actors\": 4,  # number of training actors\n    \"seed\": 1,  # reproducibility\n}\n\nray.init(num_gpus=0, local_mode=True)\nsimulator = Simulator(**conf_params)\n\nattackers = [MaliciousClient() for _ in range(5)]\nsimulator.register_attackers(attackers)\n\n# runtime parameters\nrun_params = {\n    \"model\": MLP(),  # global model\n    \"server_optimizer\": 'SGD',  # server optimizer\n    \"client_optimizer\": 'SGD',  # client optimizer\n    \"loss\": \"crossentropy\",  # loss function\n    \"global_rounds\": 400,  # number of global rounds\n    \"local_steps\": 2,  # number of steps per round\n    \"client_lr\": 0.1,  # learning rate\n}\nsimulator.run(**run_params)"
      ]
    }
  ],
  "metadata": {
    "kernelspec": {
      "display_name": "Python 3",
      "language": "python",
      "name": "python3"
    },
    "language_info": {
      "codemirror_mode": {
        "name": "ipython",
        "version": 3
      },
      "file_extension": ".py",
      "mimetype": "text/x-python",
      "name": "python",
      "nbconvert_exporter": "python",
      "pygments_lexer": "ipython3",
      "version": "3.9.12"
    }
  },
  "nbformat": 4,
  "nbformat_minor": 0
}